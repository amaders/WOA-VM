{
 "cells": [
  {
   "cell_type": "code",
   "execution_count": 2,
   "id": "e16c9dfc",
   "metadata": {},
   "outputs": [
    {
     "name": "stderr",
     "output_type": "stream",
     "text": [
      "/opt/anaconda3/envs/cs224n-cpu/lib/python3.10/site-packages/tqdm/auto.py:21: TqdmWarning: IProgress not found. Please update jupyter and ipywidgets. See https://ipywidgets.readthedocs.io/en/stable/user_install.html\n",
      "  from .autonotebook import tqdm as notebook_tqdm\n"
     ]
    }
   ],
   "source": [
    "from datasets import load_dataset\n",
    "import json, os, random\n",
    "import dotenv\n",
    "from huggingface_hub import login, hf_hub_download\n",
    "# OPTIMIZED VERSION - Process subset for faster development\n",
    "from tqdm import tqdm\n",
    "import warnings\n",
    "from collections import defaultdict\n",
    "\n",
    "dotenv.load_dotenv()\n",
    "\n",
    "HF_TOKEN = os.getenv(\"HUGGINGFACE_ACCESS_TOKEN\")\n",
    "login(token=HF_TOKEN)\n",
    "\n",
    "OUTDIR = \"direct_response\"\n",
    "os.makedirs(OUTDIR, exist_ok=True)\n",
    "train_path = f\"{OUTDIR}/train.jsonl\"\n",
    "val_path   = f\"{OUTDIR}/val.jsonl\"\n"
   ]
  },
  {
   "cell_type": "code",
   "execution_count": 3,
   "id": "23a10cd7",
   "metadata": {},
   "outputs": [
    {
     "ename": "ModuleNotFoundError",
     "evalue": "No module named 'transformers'",
     "output_type": "error",
     "traceback": [
      "\u001b[0;31m---------------------------------------------------------------------------\u001b[0m",
      "\u001b[0;31mModuleNotFoundError\u001b[0m                       Traceback (most recent call last)",
      "Cell \u001b[0;32mIn[3], line 1\u001b[0m\n\u001b[0;32m----> 1\u001b[0m \u001b[38;5;28;01mfrom\u001b[39;00m\u001b[38;5;250m \u001b[39m\u001b[38;5;21;01mtransformers\u001b[39;00m\u001b[38;5;250m \u001b[39m\u001b[38;5;28;01mimport\u001b[39;00m AutoModelForCausalLM, AutoTokenizer\n\u001b[1;32m      3\u001b[0m model_name \u001b[38;5;241m=\u001b[39m \u001b[38;5;124m\"\u001b[39m\u001b[38;5;124msocratesft/socrates-llama3-8b-sft\u001b[39m\u001b[38;5;124m\"\u001b[39m\n\u001b[1;32m      4\u001b[0m tokenizer \u001b[38;5;241m=\u001b[39m AutoTokenizer\u001b[38;5;241m.\u001b[39mfrom_pretrained(model_name)\n",
      "\u001b[0;31mModuleNotFoundError\u001b[0m: No module named 'transformers'"
     ]
    }
   ],
   "source": [
    "from transformers import AutoModelForCausalLM, AutoTokenizer\n",
    "\n",
    "model_name = \"socratesft/socrates-llama3-8b-sft\"\n",
    "tokenizer = AutoTokenizer.from_pretrained(model_name)\n",
    "model = AutoModelForCausalLM.from_pretrained(\n",
    "    model_name,\n",
    "    torch_dtype=\"auto\",\n",
    "    device_map=\"auto\"\n",
    ")"
   ]
  },
  {
   "cell_type": "code",
   "execution_count": 4,
   "id": "53c576fc",
   "metadata": {},
   "outputs": [
    {
     "ename": "NameError",
     "evalue": "name 'tokenizer' is not defined",
     "output_type": "error",
     "traceback": [
      "\u001b[0;31m---------------------------------------------------------------------------\u001b[0m",
      "\u001b[0;31mNameError\u001b[0m                                 Traceback (most recent call last)",
      "Cell \u001b[0;32mIn[4], line 2\u001b[0m\n\u001b[1;32m      1\u001b[0m prompt \u001b[38;5;241m=\u001b[39m \u001b[38;5;124m\"\u001b[39m\u001b[38;5;124mYour prompt here\u001b[39m\u001b[38;5;124m\"\u001b[39m\n\u001b[0;32m----> 2\u001b[0m inputs \u001b[38;5;241m=\u001b[39m \u001b[43mtokenizer\u001b[49m(prompt, return_tensors\u001b[38;5;241m=\u001b[39m\u001b[38;5;124m\"\u001b[39m\u001b[38;5;124mpt\u001b[39m\u001b[38;5;124m\"\u001b[39m)\u001b[38;5;241m.\u001b[39mto(model\u001b[38;5;241m.\u001b[39mdevice)\n\u001b[1;32m      3\u001b[0m outputs \u001b[38;5;241m=\u001b[39m model\u001b[38;5;241m.\u001b[39mgenerate(\u001b[38;5;241m*\u001b[39m\u001b[38;5;241m*\u001b[39minputs, max_new_tokens\u001b[38;5;241m=\u001b[39m\u001b[38;5;241m100\u001b[39m)\n\u001b[1;32m      4\u001b[0m response \u001b[38;5;241m=\u001b[39m tokenizer\u001b[38;5;241m.\u001b[39mdecode(outputs[\u001b[38;5;241m0\u001b[39m], skip_special_tokens\u001b[38;5;241m=\u001b[39m\u001b[38;5;28;01mTrue\u001b[39;00m)\n",
      "\u001b[0;31mNameError\u001b[0m: name 'tokenizer' is not defined"
     ]
    }
   ],
   "source": [
    "prompt = \"Your prompt here\"\n",
    "inputs = tokenizer(prompt, return_tensors=\"pt\").to(model.device)\n",
    "outputs = model.generate(**inputs, max_new_tokens=100)\n",
    "response = tokenizer.decode(outputs[0], skip_special_tokens=True)\n"
   ]
  },
  {
   "cell_type": "code",
   "execution_count": 3,
   "id": "75b69025",
   "metadata": {},
   "outputs": [],
   "source": [
    "mapping_file = hf_hub_download(\n",
    "    repo_id=\"socratesft/SocSci210\",\n",
    "    filename=\"metadata/participant_mapping.json\",\n",
    "    repo_type=\"dataset\"\n",
    ")\n",
    "\n",
    "with open(mapping_file, 'r') as f:\n",
    "    participant_mapping = json.load(f)\n",
    "\n",
    "\n",
    "unseen_studies = set(participant_mapping['unseen'])"
   ]
  },
  {
   "cell_type": "code",
   "execution_count": 4,
   "id": "e618ee82",
   "metadata": {},
   "outputs": [
    {
     "name": "stderr",
     "output_type": "stream",
     "text": [
      "Repo card metadata block was not found. Setting CardData to empty.\n"
     ]
    },
    {
     "name": "stdout",
     "output_type": "stream",
     "text": [
      "✓ Dataset loaded: 2901390 examples\n",
      "✓ Columns: ['sample_id', 'participant', 'demographic', 'stimuli', 'response', 'condition_num', 'task_num', 'prompt', 'reasoning', 'study_id']\n"
     ]
    }
   ],
   "source": [
    "# Suppress the metadata warning (this is harmless - just missing README metadata)\n",
    "warnings.filterwarnings(\"ignore\", message=\"Repo card metadata block was not found\")\n",
    "\n",
    "dataset = load_dataset(\"socratesft/SocSci210\", token=HF_TOKEN)\n",
    "\n",
    "dataset = dataset[\"train\"]\n",
    "# Verify the dataset loaded successfully\n",
    "print(f\"✓ Dataset loaded: {len(dataset)} examples\")\n",
    "print(f\"✓ Columns: {list(dataset.features.keys())}\") "
   ]
  },
  {
   "cell_type": "code",
   "execution_count": 5,
   "id": "bab8fd5e",
   "metadata": {},
   "outputs": [],
   "source": [
    "SYSTEM_TXT = \"You are simulating a survey respondent. Answer exactly as instructed, following the specified response format without additional commentary.\"\n",
    "\n",
    "def format_prompt(datapoint):\n",
    "    prompt = datapoint['prompt']\n",
    "\n",
    "    return {\n",
    "        \"messages\": [\n",
    "            {\"role\": \"system\", \"content\": SYSTEM_TXT},\n",
    "            {\"role\": \"user\", \"content\": prompt}\n",
    "        ]\n",
    "    }\n",
    "\n"
   ]
  },
  {
   "cell_type": "code",
   "execution_count": 6,
   "id": "de9f2410",
   "metadata": {},
   "outputs": [
    {
     "name": "stderr",
     "output_type": "stream",
     "text": [
      "100%|██████████| 2901390/2901390 [02:39<00:00, 18243.01it/s]\n"
     ]
    }
   ],
   "source": [
    "\n",
    "study_condition_groups = defaultdict(list)\n",
    "study_condition_prompts = defaultdict(list)\n",
    "study_condition_human_outcomes = defaultdict(list)\n",
    "\n",
    "for datapoint in tqdm(dataset):\n",
    "    if datapoint['study_id'] in unseen_studies:\n",
    "        study_condition_groups[(datapoint['study_id'], datapoint['condition_num'])].append(datapoint)\n",
    "        study_condition_prompts[(datapoint['study_id'], datapoint['condition_num'])].append(format_prompt(datapoint))\n",
    "        study_condition_human_outcomes[(datapoint['study_id'], datapoint['condition_num'])].append(datapoint['response'])\n"
   ]
  },
  {
   "cell_type": "code",
   "execution_count": null,
   "id": "00747a4d",
   "metadata": {},
   "outputs": [],
   "source": [
    "# Run inference for all prompts\n",
    "study_condition_results = defaultdict(list)\n",
    "\n",
    "for key, prompts in tqdm(study_condition_prompts.items(), desc=\"Processing study conditions\"):\n",
    "    study_id, condition_num = key\n",
    "    \n",
    "    for prompt_data in tqdm(prompts, desc=f\"Study {study_id}, Condition {condition_num}\", leave=False):\n",
    "        # Apply chat template to format messages properly for the model\n",
    "        formatted_prompt = tokenizer.apply_chat_template(\n",
    "            prompt_data['messages'],\n",
    "            tokenize=False,\n",
    "            add_generation_prompt=True\n",
    "        )\n",
    "        \n",
    "        # Tokenize and move to device\n",
    "        inputs = tokenizer(formatted_prompt, return_tensors=\"pt\").to(model.device)\n",
    "        \n",
    "        # Generate response\n",
    "        outputs = model.generate(\n",
    "            **inputs,\n",
    "            max_new_tokens=512,\n",
    "            do_sample=False,  # Use greedy decoding for reproducibility\n",
    "            pad_token_id=tokenizer.eos_token_id\n",
    "        )\n",
    "        \n",
    "        # Decode only the generated tokens (exclude the prompt)\n",
    "        generated_tokens = outputs[0][inputs['input_ids'].shape[1]:]\n",
    "        response = tokenizer.decode(generated_tokens, skip_special_tokens=True)\n",
    "        \n",
    "        # Store result with the same key structure\n",
    "        study_condition_results[key].append(response)\n",
    "\n",
    "print(f\"\\n✓ Inference complete for {len(study_condition_results)} study-condition pairs\")\n",
    "print(f\"✓ Total responses generated: {sum(len(v) for v in study_condition_results.values())}\")\n"
   ]
  },
  {
   "cell_type": "code",
   "execution_count": null,
   "id": "7d325c55",
   "metadata": {},
   "outputs": [],
   "source": [
    "# Inspect a sample of results\n",
    "sample_key = list(study_condition_results.keys())[0]\n",
    "print(f\"Sample study-condition key: {sample_key}\")\n",
    "print(f\"Number of responses: {len(study_condition_results[sample_key])}\")\n",
    "print(f\"\\nFirst response for this condition:\")\n",
    "print(\"-\" * 80)\n",
    "print(study_condition_results[sample_key][0])\n",
    "print(\"-\" * 80)\n"
   ]
  },
  {
   "cell_type": "code",
   "execution_count": null,
   "id": "ce1e3934",
   "metadata": {},
   "outputs": [
    {
     "name": "stdout",
     "output_type": "stream",
     "text": [
      "Saving study_condition_groups...\n",
      "✓ Saved 194 study-condition groups\n",
      "Saving study_condition_prompts...\n",
      "✓ Saved 194 study-condition prompts\n",
      "Saving study_condition_human_outcomes...\n",
      "✓ Saved 194 study-condition human outcomes\n",
      "\n",
      "✓ All data successfully saved!\n"
     ]
    }
   ],
   "source": [
    "def serialize_for_json(d):\n",
    "    \"\"\"Convert defaultdict with tuple keys to JSON-serializable format.\"\"\"\n",
    "    result = {}\n",
    "    for (study_id, condition_num), value in d.items():\n",
    "        # Create clean string key like \"study_id_condition_num\"\n",
    "        key = f\"{study_id}_{condition_num}\"\n",
    "        \n",
    "        # Convert HuggingFace dataset items to plain dicts if needed\n",
    "        if isinstance(value, list) and len(value) > 0:\n",
    "            # Handle dataset items by converting to dict\n",
    "            result[key] = [dict(item) if hasattr(item, 'keys') else item for item in value]\n",
    "        else:\n",
    "            result[key] = value\n",
    "    return result\n",
    "\n",
    "# Save study_condition_groups (raw datapoints)\n",
    "print(\"Saving study_condition_groups...\")\n",
    "with open(\"direct_response/study_condition_groups.json\", \"w\") as f:\n",
    "    json.dump(serialize_for_json(study_condition_groups), f, indent=2)\n",
    "print(f\"✓ Saved {len(study_condition_groups)} study-condition groups\")\n",
    "\n",
    "# Save study_condition_prompts (formatted prompts)\n",
    "print(\"Saving study_condition_prompts...\")\n",
    "with open(\"direct_response/study_condition_prompts.json\", \"w\") as f:\n",
    "    json.dump(serialize_for_json(study_condition_prompts), f, indent=2)\n",
    "print(f\"✓ Saved {len(study_condition_prompts)} study-condition prompts\")\n",
    "\n",
    "# Save study_condition_human_outcomes (human responses)\n",
    "print(\"Saving study_condition_human_outcomes...\")\n",
    "with open(\"direct_response/study_condition_human_outcomes.json\", \"w\") as f:\n",
    "    json.dump(serialize_for_json(study_condition_human_outcomes), f, indent=2)\n",
    "print(f\"✓ Saved {len(study_condition_human_outcomes)} study-condition human outcomes\")\n",
    "\n",
    "# Save study_condition_results (model inference results)\n",
    "print(\"Saving baseline_inference_results...\")\n",
    "with open(\"direct_response/baseline_inference_results.json\", 'w') as f:\n",
    "    json.dump(serialize_for_json(study_condition_results), f, indent=2)\n",
    "print(f\"✓ Saved {len(study_condition_results)} study-condition inference results\")\n",
    "\n",
    "print(\"\\n✓ All data successfully saved!\")\n",
    "\n"
   ]
  },
  {
   "cell_type": "markdown",
   "id": "aeb6cf4d",
   "metadata": {},
   "source": []
  },
  {
   "cell_type": "code",
   "execution_count": 12,
   "id": "86cb7719",
   "metadata": {},
   "outputs": [
    {
     "data": {
      "text/plain": [
       "dict_keys([('9nphm', 7), ('9nphm', 6), ('9nphm', 4), ('9nphm', 3), ('9nphm', 5), ('9nphm', 0), ('9nphm', 2), ('9nphm', 1), ('yjvpn', 5), ('yjvpn', 1), ('yjvpn', 0), ('yjvpn', 4), ('yjvpn', 3), ('yjvpn', 2), ('yp736', 1), ('yp736', 2), ('yp736', 0), ('3pcdm', 1), ('3pcdm', 0), ('3pcdm', 4), ('3pcdm', 3), ('3pcdm', 2), ('zsekp', 1), ('zsekp', 2), ('zsekp', 3), ('zsekp', 0), ('7jt2f', 6), ('7jt2f', 3), ('7jt2f', 1), ('7jt2f', 4), ('7jt2f', 5), ('7jt2f', 7), ('7jt2f', 2), ('7jt2f', 0), ('ztwqy', 1), ('ztwqy', 2), ('ztwqy', 0), ('ak35q', 1), ('ak35q', 7), ('ak35q', 3), ('ak35q', 4), ('ak35q', 6), ('ak35q', 0), ('ak35q', 2), ('ak35q', 5), ('ak35q', 8), ('a693y', 6), ('a693y', 3), ('a693y', 0), ('a693y', 7), ('a693y', 2), ('a693y', 5), ('a693y', 4), ('a693y', 1), ('xtvu5', 1), ('xtvu5', 0), ('a5v96', 1), ('a5v96', 5), ('a5v96', 4), ('a5v96', 3), ('a5v96', 2), ('a5v96', 0), ('a5v96', 6), ('rpw4u', 0), ('rpw4u', 1), ('ervm8', 0), ('ervm8', 1), ('ervm8', 2), ('b3ve6', 0), ('b3ve6', 1), ('b3ve6', 2), ('b3ve6', 3), ('b3ve6', 4), ('qkhdg', 2), ('qkhdg', 4), ('qkhdg', 0), ('qkhdg', 3), ('qkhdg', 1), ('qkhdg', 5), ('jkspw', 0), ('jkspw', 1), ('tcg8p', 2), ('tcg8p', 0), ('tcg8p', 1), ('ux8qt', 2), ('ux8qt', 0), ('ux8qt', 1), ('ux8qt', 3), ('wn3y9', 1), ('wn3y9', 0), ('wn3y9', 3), ('wn3y9', 4), ('wn3y9', 2), ('wn3y9', 5), ('vnm9y', 0), ('vnm9y', 1), ('vnm9y', 2), ('vnm9y', 3), ('53kjy', 2), ('53kjy', 3), ('53kjy', 0), ('53kjy', 1), ('3rvgz', 0), ('3rvgz', 1), ('8ctbk', 0), ('8ctbk', 1), ('8ctbk', 2), ('8ctbk', 3), ('8ctbk', 4), ('8ctbk', 5), ('nhgxf', 0), ('nhgxf', 1), ('nhgxf', 2), ('a7uk3', 1), ('a7uk3', 2), ('a7uk3', 3), ('a7uk3', 0), ('a7uk3', 4), ('c38xe', 2), ('c38xe', 1), ('c38xe', 0), ('kwfs3', 0), ('kwfs3', 1), ('kwfs3', 2), ('5an26', 2), ('5an26', 0), ('5an26', 1), ('5an26', 3), ('jmtyn', 5), ('jmtyn', 3), ('jmtyn', 2), ('jmtyn', 4), ('jmtyn', 0), ('jmtyn', 1), ('py9kw', 1), ('py9kw', 3), ('py9kw', 4), ('py9kw', 6), ('py9kw', 0), ('py9kw', 7), ('py9kw', 2), ('py9kw', 5), ('s43kb', 2), ('s43kb', 3), ('s43kb', 0), ('s43kb', 1), ('xym9d', 4), ('xym9d', 2), ('xym9d', 5), ('xym9d', 3), ('xym9d', 1), ('xym9d', 0), ('3muqx', 2), ('3muqx', 9), ('3muqx', 4), ('3muqx', 0), ('3muqx', 10), ('3muqx', 3), ('3muqx', 7), ('3muqx', 6), ('3muqx', 8), ('3muqx', 5), ('3muqx', 1), ('y9nb7', 3), ('y9nb7', 1), ('y9nb7', 0), ('y9nb7', 2), ('c5r2f', 3), ('c5r2f', 4), ('c5r2f', 7), ('c5r2f', 0), ('c5r2f', 9), ('c5r2f', 1), ('c5r2f', 11), ('c5r2f', 8), ('c5r2f', 6), ('c5r2f', 5), ('c5r2f', 2), ('c5r2f', 10), ('326nv', 0), ('326nv', 3), ('326nv', 2), ('326nv', 1), ('5hqan', 1), ('5hqan', 0), ('rj3aw', 0), ('rj3aw', 1), ('rj3aw', 2), ('w72cz', 2), ('w72cz', 0), ('w72cz', 1), ('w72cz', 3), ('5vm8g', 1), ('5vm8g', 0)])"
      ]
     },
     "execution_count": 12,
     "metadata": {},
     "output_type": "execute_result"
    }
   ],
   "source": [
    "study_condition_human_outcomes.keys()"
   ]
  },
  {
   "cell_type": "code",
   "execution_count": 17,
   "id": "121a6e13",
   "metadata": {},
   "outputs": [
    {
     "data": {
      "image/png": "[encoded data removed]",
      "text/plain": [
       "<Figure size 800x500 with 1 Axes>"
      ]
     },
     "metadata": {},
     "output_type": "display_data"
    }
   ],
   "source": [
    "import matplotlib.pyplot as plt\n",
    "\n",
    "# Get the numbers\n",
    "numbers = study_condition_human_outcomes[('9nphm', 7)]\n",
    "\n",
    "# Plot histogram\n",
    "plt.figure(figsize=(8, 5))\n",
    "plt.hist(numbers, bins=range(min(numbers), max(numbers)+2), edgecolor='black', align='left')\n",
    "plt.xlabel('Value')\n",
    "plt.ylabel('Frequency')\n",
    "plt.title(\"Histogram of study_condition_human_outcomes[('9nphm', 7)]\")\n",
    "plt.xticks(range(min(numbers), max(numbers)+1))\n",
    "plt.show()"
   ]
  },
  {
   "cell_type": "code",
   "execution_count": null,
   "id": "a26f20f4",
   "metadata": {},
   "outputs": [],
   "source": []
  }
 ],
 "metadata": {
  "kernelspec": {
   "display_name": "cs224n-cpu",
   "language": "python",
   "name": "python3"
  },
  "language_info": {
   "codemirror_mode": {
    "name": "ipython",
    "version": 3
   },
   "file_extension": ".py",
   "mimetype": "text/x-python",
   "name": "python",
   "nbconvert_exporter": "python",
   "pygments_lexer": "ipython3",
   "version": "3.10.18"
  }
 },
 "nbformat": 4,
 "nbformat_minor": 5
}
