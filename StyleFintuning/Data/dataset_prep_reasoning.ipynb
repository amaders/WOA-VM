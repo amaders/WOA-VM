{
 "cells": [
  {
   "cell_type": "code",
   "execution_count": null,
   "id": "8af5d907",
   "metadata": {},
   "outputs": [],
   "source": [
    "from datasets import load_dataset\n",
    "import json, os, random\n",
    "import dotenv\n",
    "from huggingface_hub import login, hf_hub_download\n",
    "# OPTIMIZED VERSION - Process subset for faster development\n",
    "from tqdm import tqdm\n",
    "import warnings\n",
    "\n",
    "dotenv.load_dotenv()\n",
    "\n",
    "HF_TOKEN = os.getenv(\"HUGGINGFACE_ACCESS_TOKEN\")\n",
    "login(token=HF_TOKEN)\n",
    "\n",
    "OUTDIR = \"reasoning_traces\"\n",
    "os.makedirs(OUTDIR, exist_ok=True)\n",
    "train_path = f\"{OUTDIR}/train.jsonl\"\n",
    "val_path   = f\"{OUTDIR}/val.jsonl\"\n"
   ]
  },
  {
   "cell_type": "code",
   "execution_count": null,
   "id": "ebb0ed34",
   "metadata": {},
   "outputs": [],
   "source": [
    "mapping_file = hf_hub_download(\n",
    "    repo_id=\"socratesft/SocSci210\",\n",
    "    filename=\"metadata/participant_mapping.json\",\n",
    "    repo_type=\"dataset\"\n",
    ")\n",
    "\n",
    "with open(mapping_file, 'r') as f:\n",
    "    participant_mapping = json.load(f)\n"
   ]
  },
  {
   "cell_type": "code",
   "execution_count": null,
   "id": "3691f1e9",
   "metadata": {},
   "outputs": [
    {
     "name": "stderr",
     "output_type": "stream",
     "text": [
      "Repo card metadata block was not found. Setting CardData to empty.\n",
      "Using the latest cached version of the dataset since socratesft/SocSci210 couldn't be found on the Hugging Face Hub\n",
      "Found the latest cached dataset configuration 'default' at /Users/amader/.cache/huggingface/datasets/socratesft___soc_sci210/default/0.0.0/048481111a4425ed83dc0eacf15f8431f252b21a (last modified on Fri Sep 26 22:43:56 2025).\n"
     ]
    },
    {
     "ename": "ValueError",
     "evalue": "Column 'train' doesn't exist.",
     "output_type": "error",
     "traceback": [
      "\u001b[0;31m---------------------------------------------------------------------------\u001b[0m",
      "\u001b[0;31mValueError\u001b[0m                                Traceback (most recent call last)",
      "Cell \u001b[0;32mIn[33], line 8\u001b[0m\n\u001b[1;32m      6\u001b[0m dataset \u001b[38;5;241m=\u001b[39m dataset[\u001b[38;5;124m\"\u001b[39m\u001b[38;5;124mtrain\u001b[39m\u001b[38;5;124m\"\u001b[39m]\n\u001b[1;32m      7\u001b[0m \u001b[38;5;66;03m# Verify the dataset loaded successfully\u001b[39;00m\n\u001b[0;32m----> 8\u001b[0m \u001b[38;5;28mprint\u001b[39m(\u001b[38;5;124mf\u001b[39m\u001b[38;5;124m\"\u001b[39m\u001b[38;5;124m✓ Dataset loaded: \u001b[39m\u001b[38;5;132;01m{\u001b[39;00m\u001b[38;5;28mlen\u001b[39m(\u001b[43mdataset\u001b[49m\u001b[43m[\u001b[49m\u001b[38;5;124;43m'\u001b[39;49m\u001b[38;5;124;43mtrain\u001b[39;49m\u001b[38;5;124;43m'\u001b[39;49m\u001b[43m]\u001b[49m)\u001b[38;5;132;01m}\u001b[39;00m\u001b[38;5;124m examples\u001b[39m\u001b[38;5;124m\"\u001b[39m)\n\u001b[1;32m      9\u001b[0m \u001b[38;5;28mprint\u001b[39m(\u001b[38;5;124mf\u001b[39m\u001b[38;5;124m\"\u001b[39m\u001b[38;5;124m✓ Columns: \u001b[39m\u001b[38;5;132;01m{\u001b[39;00m\u001b[38;5;28mlist\u001b[39m(dataset[\u001b[38;5;124m'\u001b[39m\u001b[38;5;124mtrain\u001b[39m\u001b[38;5;124m'\u001b[39m]\u001b[38;5;241m.\u001b[39mfeatures\u001b[38;5;241m.\u001b[39mkeys())\u001b[38;5;132;01m}\u001b[39;00m\u001b[38;5;124m\"\u001b[39m) \n",
      "File \u001b[0;32m/opt/anaconda3/envs/cs224n-cpu/lib/python3.10/site-packages/datasets/arrow_dataset.py:2858\u001b[0m, in \u001b[0;36mDataset.__getitem__\u001b[0;34m(self, key)\u001b[0m\n\u001b[1;32m   2856\u001b[0m \u001b[38;5;28;01mif\u001b[39;00m \u001b[38;5;28misinstance\u001b[39m(key, \u001b[38;5;28mstr\u001b[39m):\n\u001b[1;32m   2857\u001b[0m     \u001b[38;5;28;01mif\u001b[39;00m \u001b[38;5;28mself\u001b[39m\u001b[38;5;241m.\u001b[39m_format_type \u001b[38;5;129;01mis\u001b[39;00m \u001b[38;5;28;01mNone\u001b[39;00m \u001b[38;5;129;01mor\u001b[39;00m \u001b[38;5;28mself\u001b[39m\u001b[38;5;241m.\u001b[39m_format_type \u001b[38;5;129;01mnot\u001b[39;00m \u001b[38;5;129;01min\u001b[39;00m (\u001b[38;5;124m\"\u001b[39m\u001b[38;5;124marrow\u001b[39m\u001b[38;5;124m\"\u001b[39m, \u001b[38;5;124m\"\u001b[39m\u001b[38;5;124mpandas\u001b[39m\u001b[38;5;124m\"\u001b[39m, \u001b[38;5;124m\"\u001b[39m\u001b[38;5;124mpolars\u001b[39m\u001b[38;5;124m\"\u001b[39m):\n\u001b[0;32m-> 2858\u001b[0m         \u001b[38;5;28;01mreturn\u001b[39;00m \u001b[43mColumn\u001b[49m\u001b[43m(\u001b[49m\u001b[38;5;28;43mself\u001b[39;49m\u001b[43m,\u001b[49m\u001b[43m \u001b[49m\u001b[43mkey\u001b[49m\u001b[43m)\u001b[49m\n\u001b[1;32m   2859\u001b[0m \u001b[38;5;28;01mreturn\u001b[39;00m \u001b[38;5;28mself\u001b[39m\u001b[38;5;241m.\u001b[39m_getitem(key)\n",
      "File \u001b[0;32m/opt/anaconda3/envs/cs224n-cpu/lib/python3.10/site-packages/datasets/arrow_dataset.py:656\u001b[0m, in \u001b[0;36mColumn.__init__\u001b[0;34m(self, source, column_name)\u001b[0m\n\u001b[1;32m    654\u001b[0m \u001b[38;5;28mself\u001b[39m\u001b[38;5;241m.\u001b[39mcolumn_name \u001b[38;5;241m=\u001b[39m column_name\n\u001b[1;32m    655\u001b[0m \u001b[38;5;28;01mif\u001b[39;00m \u001b[38;5;129;01mnot\u001b[39;00m \u001b[38;5;28misinstance\u001b[39m(source\u001b[38;5;241m.\u001b[39mfeatures, \u001b[38;5;28mdict\u001b[39m) \u001b[38;5;129;01mor\u001b[39;00m column_name \u001b[38;5;129;01mnot\u001b[39;00m \u001b[38;5;129;01min\u001b[39;00m source\u001b[38;5;241m.\u001b[39mfeatures:\n\u001b[0;32m--> 656\u001b[0m     \u001b[38;5;28;01mraise\u001b[39;00m \u001b[38;5;167;01mValueError\u001b[39;00m(\u001b[38;5;124mf\u001b[39m\u001b[38;5;124m\"\u001b[39m\u001b[38;5;124mColumn \u001b[39m\u001b[38;5;124m'\u001b[39m\u001b[38;5;132;01m{\u001b[39;00mcolumn_name\u001b[38;5;132;01m}\u001b[39;00m\u001b[38;5;124m'\u001b[39m\u001b[38;5;124m doesn\u001b[39m\u001b[38;5;124m'\u001b[39m\u001b[38;5;124mt exist.\u001b[39m\u001b[38;5;124m\"\u001b[39m)\n\u001b[1;32m    657\u001b[0m \u001b[38;5;28mself\u001b[39m\u001b[38;5;241m.\u001b[39mfeatures \u001b[38;5;241m=\u001b[39m source\u001b[38;5;241m.\u001b[39mfeatures[column_name]\n",
      "\u001b[0;31mValueError\u001b[0m: Column 'train' doesn't exist."
     ]
    }
   ],
   "source": [
    "# Suppress the metadata warning (this is harmless - just missing README metadata)\n",
    "import warnings\n",
    "warnings.filterwarnings(\"ignore\", message=\"Repo card metadata block was not found\")\n",
    "\n",
    "dataset = load_dataset(\"socratesft/SocSci210\", token=HF_TOKEN)\n",
    "# Verify the dataset loaded successfully\n",
    "print(f\"✓ Dataset loaded: {len(dataset['train'])} examples\")\n",
    "print(f\"✓ Columns: {list(dataset['train'].features.keys())}\") "
   ]
  },
  {
   "cell_type": "code",
   "execution_count": 35,
   "id": "8a73b276",
   "metadata": {},
   "outputs": [
    {
     "data": {
      "text/plain": [
       "Dataset({\n",
       "    features: ['sample_id', 'participant', 'demographic', 'stimuli', 'response', 'condition_num', 'task_num', 'prompt', 'reasoning', 'study_id'],\n",
       "    num_rows: 2901390\n",
       "})"
      ]
     },
     "execution_count": 35,
     "metadata": {},
     "output_type": "execute_result"
    }
   ],
   "source": [
    "dataset"
   ]
  },
  {
   "cell_type": "code",
   "execution_count": null,
   "id": "a37ffa55",
   "metadata": {},
   "outputs": [
    {
     "name": "stdout",
     "output_type": "stream",
     "text": [
      "Function defined! Example usage:\n",
      "\n",
      "# Filter for females only:\n",
      "filtered_females = filter_by_demographics(ds, {\"gender\": \"Female\"})\n",
      "\n",
      "# Filter for married people in metro areas:\n",
      "filtered_married_metro = filter_by_demographics(ds, {\n",
      "    \"marital_status\": \"Married\",\n",
      "    \"metro_status\": \"Metro Area\"\n",
      "})\n",
      "\n",
      "# Filter by multiple criteria:\n",
      "filtered_complex = filter_by_demographics(ds, {\n",
      "    \"gender\": \"Female\",\n",
      "    \"education\": \"Post grad study/professional degree\",\n",
      "    \"employment\": \"Employed as paid employee\"\n",
      "})\n",
      "\n",
      "📊 Dataset info:\n",
      "Total examples: 2,901,390\n"
     ]
    },
    {
     "name": "stderr",
     "output_type": "stream",
     "text": [
      "Filter: 100%|██████████| 2901390/2901390 [01:07<00:00, 43118.19 examples/s]"
     ]
    },
    {
     "name": "stdout",
     "output_type": "stream",
     "text": [
      "Female examples: 791,278\n",
      "Sample female demographic keys: ['age', 'education', 'employment', 'ethnicity', 'gender', 'household_size', 'housing_ownership', 'housing_type', 'ideology', 'income', 'internet_access', 'location', 'marital_status', 'metro_status', 'party_id', 'phone_service']\n"
     ]
    },
    {
     "name": "stderr",
     "output_type": "stream",
     "text": [
      "\n"
     ]
    }
   ],
   "source": [
    "def filter_by_demographics(dataset, demographic_filters):\n",
    "    \"\"\"    \n",
    "    Returns:\n",
    "        Filtered dataset containing only examples that match ALL specified criteria\n",
    "        and have ALL required demographic keys present\n",
    "    \n",
    "    Examples:\n",
    "        # Filter for females only\n",
    "        filtered = filter_by_demographics(ds, {\"gender\": \"Female\"})\n",
    "        \n",
    "        # Filter for married females with college education\n",
    "        filtered = filter_by_demographics(ds, {\n",
    "            \"gender\": \"Female\", \n",
    "            \"marital_status\": \"Married\",\n",
    "            \"education\": \"Post grad study/professional degree\"\n",
    "        })\n",
    "    \"\"\"\n",
    "    def matches_criteria(example):\n",
    "        # Check if demographic field exists\n",
    "        if 'demographic' not in example or example['demographic'] is None:\n",
    "            return False\n",
    "            \n",
    "        demographic = example['demographic']\n",
    "        \n",
    "        # Check if all required keys exist in demographic data\n",
    "        for key in demographic_filters.keys():\n",
    "            if key not in demographic:\n",
    "                return False\n",
    "        \n",
    "        # Check if all criteria match\n",
    "        for key, required_value in demographic_filters.items():\n",
    "            actual_value = demographic.get(key)\n",
    "            if actual_value != required_value:\n",
    "                return False\n",
    "                \n",
    "        return True\n",
    "    \n",
    "    # Filter the dataset\n",
    "    if hasattr(dataset, 'filter'):  # HuggingFace dataset\n",
    "        return dataset.filter(matches_criteria)\n",
    "    else:  # Regular list/iterable\n",
    "        return [ex for ex in dataset if matches_criteria(ex)]\n",
    "\n",
    "# Test the function with a sample\n",
    "if 'ds' in globals():\n",
    "    print(f\"\\n📊 Dataset info:\")\n",
    "    print(f\"Total examples: {len(dataset):,}\")\n",
    "    \n",
    "    # Test filter for females\n",
    "    try:\n",
    "        female_subset = filter_by_demographics(dataset, {\"gender\": \"Female\"})\n",
    "        print(f\"Female examples: {len(female_subset):,}\")\n",
    "        \n",
    "        # Show a sample demographic\n",
    "        if len(female_subset) > 0:\n",
    "            sample_demo = female_subset[0]['demographic']\n",
    "            print(f\"Sample female demographic keys: {list(sample_demo.keys())}\")\n",
    "    except Exception as e:\n",
    "        print(f\"Error testing filter: {e}\")\n",
    "else:\n",
    "    print(\"\\n⚠️  Dataset 'ds' not loaded yet. Run the previous cells first!\")"
   ]
  },
  {
   "cell_type": "code",
   "execution_count": null,
   "id": "27b7f286",
   "metadata": {},
   "outputs": [
    {
     "name": "stdout",
     "output_type": "stream",
     "text": [
      "Full dataset size: 791,278 examples\n"
     ]
    },
    {
     "name": "stderr",
     "output_type": "stream",
     "text": [
      "Converting to chat format: 100%|██████████| 791278/791278 [01:03<00:00, 12510.42it/s]\n"
     ]
    },
    {
     "name": "stdout",
     "output_type": "stream",
     "text": [
      "✓ Processed: 791,278 examples, Skipped: 0 examples\n",
      "Writing files: 775,453 train, 15,825 validation...\n",
      "✓ Successfully wrote:\n",
      "  - ax_data/train.jsonl: 775,453 examples\n",
      "  - ax_data/val.jsonl: 15,825 examples\n"
     ]
    }
   ],
   "source": [
    "\n",
    "# USE FILTERED DATASET FROM ABOVE HERE\n",
    "ds = female_subset\n",
    "print(f\"Full dataset size: {len(ds):,} examples\")\n",
    "\n",
    "\n",
    "# Optional single system instruction\n",
    "SYSTEM_TXT = (\n",
    "    \"You are simulating a survey respondent. You are to answer exactly as instructed, \"\n",
    "    \"but also include your reasoning (5 sentences or less) before you output your answer. Please follow the exact output format below.\\n\"\n",
    "    \"### Output format\\n<trace>\\n...your step-by-step reasoning here...\\n</trace>\\n\"\n",
    "    \"PREDICTION: <verbatim answer>  (conclude with predicted answer, use exactly the option label/number with no extra commentary)\"\n",
    ")\n",
    "\n",
    "def build_assistant_text(reasoning, response):\n",
    "    r = (reasoning or \"\").strip()\n",
    "    y = str(response).strip()\n",
    "    if r:\n",
    "        return f\"<trace>{r}</trace>\\nPREDICTION: {y}\"\n",
    "    return f\"PREDICTION: {y}\"\n",
    "\n",
    "# Process SUBSET for faster development - change this number as needed\n",
    "# max_examples = 5000  # Start with 5k examples instead of 2.9M!\n",
    "# print(f\"Processing first {max_examples:,} examples for development...\")\n",
    "\n",
    "# Select a subset for processing\n",
    "# subset = ds.select(range(min(max_examples, len(ds))))\n",
    "\n",
    "subset = ds\n",
    "\n",
    "# Create sets for faster lookup\n",
    "seen_participants = set(participant_mapping['seen'])\n",
    "unseen_participants = set(participant_mapping['unseen'])\n",
    "\n",
    "train_rows = []\n",
    "val_rows = []\n",
    "processed = 0\n",
    "skipped = 0\n",
    "\n",
    "for ex in tqdm(subset, desc=\"Converting to chat format\"):\n",
    "    prompt = ex.get(\"prompt\") .strip()\n",
    "    response = ex.get(\"response\")\n",
    "    reasoning = (ex.get(\"reasoning\") or \"\").strip()\n",
    "    study_id = ex.get(\"study_id\")\n",
    "    \n",
    "    if not prompt or response is None:\n",
    "        skipped += 1\n",
    "        continue\n",
    "\n",
    "    assistant = build_assistant_text(reasoning, response)\n",
    "    message_obj = {\n",
    "        \"messages\": [\n",
    "            {\"role\": \"system\", \"content\": SYSTEM_TXT},\n",
    "            {\"role\": \"user\", \"content\": prompt},\n",
    "            {\"role\": \"assistant\", \"content\": assistant}\n",
    "        ]\n",
    "    }\n",
    "    \n",
    "    # Split based on participant mapping\n",
    "    if study_id in seen_participants:\n",
    "        train_rows.append(message_obj)\n",
    "    elif study_id in unseen_participants:\n",
    "        val_rows.append(message_obj)\n",
    "    else:\n",
    "        # Skip examples from participants not in either set\n",
    "        skipped += 1\n",
    "        continue\n",
    "    \n",
    "    processed += 1\n",
    "\n",
    "print(f\"✓ Processed: {processed:,} examples, Skipped: {skipped:,} examples\")\n",
    "print(f\"Split based on participant_mapping: {len(train_rows):,} train (seen), {len(val_rows):,} validation (unseen)\")\n",
    "\n",
    "print(f\"Writing files: {len(train_rows):,} train, {len(val_rows):,} validation...\")\n",
    "\n",
    "# Write files\n",
    "with open(train_path, \"w\") as f:\n",
    "    for r in train_rows: \n",
    "        f.write(json.dumps(r, ensure_ascii=False) + \"\\n\")\n",
    "\n",
    "with open(val_path, \"w\") as f:\n",
    "    for r in val_rows:   \n",
    "        f.write(json.dumps(r, ensure_ascii=False) + \"\\n\")\n",
    "\n",
    "print(f\"✓ Successfully wrote:\")\n",
    "print(f\"  - {train_path}: {len(train_rows):,} examples\") \n",
    "print(f\"  - {val_path}: {len(val_rows):,} examples\")\n"
   ]
  },
  {
   "cell_type": "code",
   "execution_count": null,
   "id": "605c5b0b",
   "metadata": {},
   "outputs": [],
   "source": []
  }
 ],
 "metadata": {
  "kernelspec": {
   "display_name": "cs224n-cpu",
   "language": "python",
   "name": "python3"
  },
  "language_info": {
   "codemirror_mode": {
    "name": "ipython",
    "version": 3
   },
   "file_extension": ".py",
   "mimetype": "text/x-python",
   "name": "python",
   "nbconvert_exporter": "python",
   "pygments_lexer": "ipython3",
   "version": "3.10.18"
  }
 },
 "nbformat": 4,
 "nbformat_minor": 5
}
