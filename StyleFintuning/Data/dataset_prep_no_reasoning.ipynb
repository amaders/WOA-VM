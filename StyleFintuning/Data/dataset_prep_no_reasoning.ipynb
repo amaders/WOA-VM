{
 "cells": [
  {
   "cell_type": "code",
   "execution_count": null,
   "id": "8af5d907",
   "metadata": {},
   "outputs": [
    {
     "name": "stderr",
     "output_type": "stream",
     "text": [
      "/opt/anaconda3/envs/cs224n-cpu/lib/python3.10/site-packages/tqdm/auto.py:21: TqdmWarning: IProgress not found. Please update jupyter and ipywidgets. See https://ipywidgets.readthedocs.io/en/stable/user_install.html\n",
      "  from .autonotebook import tqdm as notebook_tqdm\n"
     ]
    }
   ],
   "source": [
    "from datasets import load_dataset\n",
    "import json, os, random\n",
    "import dotenv\n",
    "from huggingface_hub import login\n",
    "# OPTIMIZED VERSION - Process subset for faster development\n",
    "from tqdm import tqdm\n",
    "import warnings\n",
    "\n",
    "dotenv.load_dotenv()\n",
    "\n",
    "HF_TOKEN = os.getenv(\"HUGGINGFACE_ACCESS_TOKEN\")\n",
    "login(token=HF_TOKEN)\n",
    "\n",
    "OUTDIR = \"direct_response\"\n",
    "os.makedirs(OUTDIR, exist_ok=True)\n",
    "train_path = f\"{OUTDIR}/train.jsonl\"\n",
    "val_path   = f\"{OUTDIR}/val.jsonl\"\n"
   ]
  },
  {
   "cell_type": "code",
   "execution_count": 10,
   "id": "3691f1e9",
   "metadata": {},
   "outputs": [
    {
     "name": "stderr",
     "output_type": "stream",
     "text": [
      "Repo card metadata block was not found. Setting CardData to empty.\n"
     ]
    },
    {
     "name": "stdout",
     "output_type": "stream",
     "text": [
      "✓ Dataset loaded: 2901390 examples\n",
      "✓ Columns: ['sample_id', 'participant', 'demographic', 'stimuli', 'response', 'condition_num', 'task_num', 'prompt', 'reasoning', 'study_id']\n"
     ]
    }
   ],
   "source": [
    "# Suppress the metadata warning (this is harmless - just missing README metadata)\n",
    "warnings.filterwarnings(\"ignore\", message=\"Repo card metadata block was not found\")\n",
    "\n",
    "dataset = load_dataset(\"socratesft/SocSci210\", token=HF_TOKEN)\n",
    "# Verify the dataset loaded successfully\n",
    "print(f\"✓ Dataset loaded: {len(dataset['train'])} examples\")\n",
    "print(f\"✓ Columns: {list(dataset['train'].features.keys())}\") "
   ]
  },
  {
   "cell_type": "code",
   "execution_count": 12,
   "id": "8a73b276",
   "metadata": {},
   "outputs": [],
   "source": [
    "dataset = dataset[\"train\"]"
   ]
  },
  {
   "cell_type": "code",
   "execution_count": 15,
   "id": "a37ffa55",
   "metadata": {},
   "outputs": [
    {
     "name": "stdout",
     "output_type": "stream",
     "text": [
      "\n",
      "📊 Dataset info:\n",
      "Total examples: 2,901,390\n",
      "Filtered dataset size: 791,278\n"
     ]
    }
   ],
   "source": [
    "def filter_by_demographics(dataset, demographic_filters):\n",
    "    \"\"\"    \n",
    "    Returns:\n",
    "        Filtered dataset containing only examples that match ALL specified criteria\n",
    "        and have ALL required demographic keys present\n",
    "    \n",
    "    Examples:\n",
    "        # Filter for females only\n",
    "        filtered = filter_by_demographics(ds, {\"gender\": \"Female\"})\n",
    "        \n",
    "        # Filter for married females with college education\n",
    "        filtered = filter_by_demographics(ds, {\n",
    "            \"gender\": \"Female\", \n",
    "            \"marital_status\": \"Married\",\n",
    "            \"education\": \"Post grad study/professional degree\"\n",
    "        })\n",
    "    \"\"\"\n",
    "    def matches_criteria(example):\n",
    "        # Check if demographic field exists\n",
    "        if 'demographic' not in example or example['demographic'] is None:\n",
    "            return False\n",
    "            \n",
    "        demographic = example['demographic']\n",
    "        \n",
    "        # Check if all required keys exist in demographic data\n",
    "        for key in demographic_filters.keys():\n",
    "            if key not in demographic:\n",
    "                return False\n",
    "        \n",
    "        # Check if all criteria match\n",
    "        for key, required_value in demographic_filters.items():\n",
    "            actual_value = demographic.get(key)\n",
    "            if actual_value != required_value:\n",
    "                return False\n",
    "                \n",
    "        return True\n",
    "    \n",
    "    # Filter the dataset\n",
    "    if hasattr(dataset, 'filter'):  # HuggingFace dataset\n",
    "        return dataset.filter(matches_criteria)\n",
    "    else:  # Regular list/iterable\n",
    "        return [ex for ex in dataset if matches_criteria(ex)]\n",
    "\n",
    "# Test the function with a sample\n",
    "if 'dataset' in globals():\n",
    "    print(f\"\\n📊 Dataset info:\")\n",
    "    print(f\"Total examples: {len(dataset):,}\")\n",
    "    \n",
    "    # Test filter for females\n",
    "    try:\n",
    "        filtered_dataset = filter_by_demographics(dataset, {\"gender\": \"Male\"})\n",
    "    \n",
    "        print(f\"Filtered dataset size: {len(filtered_dataset):,}\")\n",
    "        \n",
    "    except Exception as e:\n",
    "        print(f\"Error testing filter: {e}\")\n",
    "else:\n",
    "    print(\"\\ndataset' not loaded yet. Run the previous cells first!\")"
   ]
  },
  {
   "cell_type": "code",
   "execution_count": 16,
   "id": "27b7f286",
   "metadata": {},
   "outputs": [
    {
     "name": "stdout",
     "output_type": "stream",
     "text": [
      "Full dataset size: 791,278 examples\n"
     ]
    },
    {
     "name": "stderr",
     "output_type": "stream",
     "text": [
      "Converting to chat format: 100%|██████████| 791278/791278 [01:02<00:00, 12699.63it/s]\n"
     ]
    },
    {
     "name": "stdout",
     "output_type": "stream",
     "text": [
      "✓ Processed: 791,278 examples, Skipped: 0 examples\n",
      "Writing files: 775,453 train, 15,825 validation...\n",
      "✓ Successfully wrote:\n",
      "  - direct_response/train.jsonl: 775,453 examples\n",
      "  - direct_response/val.jsonl: 15,825 examples\n"
     ]
    }
   ],
   "source": [
    "\n",
    "# USE FILTERED DATASET FROM ABOVE HERE\n",
    "ds = filtered_dataset\n",
    "print(f\"Full dataset size: {len(ds):,} examples\")\n",
    "\n",
    "\n",
    "# Optional single system instruction\n",
    "SYSTEM_TXT =  \"You are simulating a survey respondent. Answer exactly as instructed, following the specified response format without additional commentary.\"\n",
    "\n",
    "subset = ds\n",
    "\n",
    "rows = []\n",
    "processed = 0\n",
    "skipped = 0\n",
    "\n",
    "for ex in tqdm(subset, desc=\"Converting to chat format\"):\n",
    "    prompt = ex.get(\"prompt\") .strip()\n",
    "    response = ex.get(\"response\")\n",
    "    \n",
    "    if not prompt or response is None:\n",
    "        skipped += 1\n",
    "        continue\n",
    "\n",
    "    assistant = str(response).strip()\n",
    "    rows.append({\n",
    "        \"messages\": [\n",
    "            {\"role\": \"system\", \"content\": SYSTEM_TXT},\n",
    "            {\"role\": \"user\", \"content\": prompt},\n",
    "            {\"role\": \"assistant\", \"content\": assistant}\n",
    "        ]\n",
    "    })\n",
    "    processed += 1\n",
    "\n",
    "print(f\"✓ Processed: {processed:,} examples, Skipped: {skipped:,} examples\")\n",
    "\n",
    "# Simple split\n",
    "random.seed(42)\n",
    "random.shuffle(rows)\n",
    "k = max(100, int(0.02 * len(rows)))  # ~2% for validation\n",
    "val, train = rows[:k], rows[k:]\n",
    "\n",
    "print(f\"Writing files: {len(train):,} train, {len(val):,} validation...\")\n",
    "\n",
    "# Write files (FIXED - no more slicing errors!)\n",
    "with open(train_path, \"w\") as f:\n",
    "    for r in train: \n",
    "        f.write(json.dumps(r, ensure_ascii=False) + \"\\n\")\n",
    "\n",
    "with open(val_path, \"w\") as f:\n",
    "    for r in val:   \n",
    "        f.write(json.dumps(r, ensure_ascii=False) + \"\\n\")\n",
    "\n",
    "print(f\"✓ Successfully wrote:\")\n",
    "print(f\"  - {train_path}: {len(train):,} examples\") \n",
    "print(f\"  - {val_path}: {len(val):,} examples\")\n"
   ]
  },
  {
   "cell_type": "code",
   "execution_count": null,
   "id": "605c5b0b",
   "metadata": {},
   "outputs": [],
   "source": []
  }
 ],
 "metadata": {
  "kernelspec": {
   "display_name": "cs224n-cpu",
   "language": "python",
   "name": "python3"
  },
  "language_info": {
   "codemirror_mode": {
    "name": "ipython",
    "version": 3
   },
   "file_extension": ".py",
   "mimetype": "text/x-python",
   "name": "python",
   "nbconvert_exporter": "python",
   "pygments_lexer": "ipython3",
   "version": "3.10.18"
  }
 },
 "nbformat": 4,
 "nbformat_minor": 5
}
