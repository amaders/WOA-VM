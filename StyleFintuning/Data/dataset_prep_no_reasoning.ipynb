{
 "cells": [
  {
   "cell_type": "code",
   "execution_count": 2,
   "id": "8af5d907",
   "metadata": {},
   "outputs": [],
   "source": [
    "from datasets import load_dataset\n",
    "import json, os, random\n",
    "import dotenv\n",
    "from huggingface_hub import login, hf_hub_download\n",
    "# OPTIMIZED VERSION - Process subset for faster development\n",
    "from tqdm import tqdm\n",
    "import warnings\n",
    "\n",
    "dotenv.load_dotenv()\n",
    "\n",
    "HF_TOKEN = os.getenv(\"HUGGINGFACE_ACCESS_TOKEN\")\n",
    "login(token=HF_TOKEN)\n",
    "\n",
    "OUTDIR = \"direct_response\"\n",
    "os.makedirs(OUTDIR, exist_ok=True)\n",
    "train_path = f\"{OUTDIR}/train.jsonl\"\n",
    "val_path   = f\"{OUTDIR}/val.jsonl\"\n"
   ]
  },
  {
   "cell_type": "code",
   "execution_count": 3,
   "id": "4e6c61a3",
   "metadata": {},
   "outputs": [],
   "source": [
    "mapping_file = hf_hub_download(\n",
    "    repo_id=\"socratesft/SocSci210\",\n",
    "    filename=\"metadata/participant_mapping.json\",\n",
    "    repo_type=\"dataset\"\n",
    ")\n",
    "\n",
    "with open(mapping_file, 'r') as f:\n",
    "    participant_mapping = json.load(f)\n"
   ]
  },
  {
   "cell_type": "code",
   "execution_count": 4,
   "id": "3691f1e9",
   "metadata": {},
   "outputs": [
    {
     "name": "stderr",
     "output_type": "stream",
     "text": [
      "Repo card metadata block was not found. Setting CardData to empty.\n",
      "Downloading data: 100%|██████████| 17/17 [00:27<00:00,  1.61s/files]\n",
      "Generating train split: 100%|██████████| 2901390/2901390 [00:06<00:00, 429863.84 examples/s]"
     ]
    },
    {
     "name": "stdout",
     "output_type": "stream",
     "text": [
      "✓ Dataset loaded: 2901390 examples\n",
      "✓ Columns: ['sample_id', 'participant', 'demographic', 'stimuli', 'response', 'condition_num', 'task_num', 'prompt', 'reasoning', 'study_id']\n"
     ]
    },
    {
     "name": "stderr",
     "output_type": "stream",
     "text": [
      "\n"
     ]
    }
   ],
   "source": [
    "# Suppress the metadata warning (this is harmless - just missing README metadata)\n",
    "warnings.filterwarnings(\"ignore\", message=\"Repo card metadata block was not found\")\n",
    "\n",
    "dataset = load_dataset(\"socratesft/SocSci210\", token=HF_TOKEN)\n",
    "# Verify the dataset loaded successfully\n",
    "print(f\"✓ Dataset loaded: {len(dataset['train'])} examples\")\n",
    "print(f\"✓ Columns: {list(dataset['train'].features.keys())}\") "
   ]
  },
  {
   "cell_type": "code",
   "execution_count": 5,
   "id": "8a73b276",
   "metadata": {},
   "outputs": [],
   "source": [
    "dataset = dataset[\"train\"]"
   ]
  },
  {
   "cell_type": "code",
   "execution_count": 6,
   "id": "a37ffa55",
   "metadata": {},
   "outputs": [
    {
     "name": "stdout",
     "output_type": "stream",
     "text": [
      "\n",
      "📊 Dataset info:\n",
      "Total examples: 2,901,390\n"
     ]
    },
    {
     "name": "stderr",
     "output_type": "stream",
     "text": [
      "Filter: 100%|██████████| 2901390/2901390 [01:08<00:00, 42245.71 examples/s]"
     ]
    },
    {
     "name": "stdout",
     "output_type": "stream",
     "text": [
      "Filtered dataset size: 791,278\n"
     ]
    },
    {
     "name": "stderr",
     "output_type": "stream",
     "text": [
      "\n"
     ]
    }
   ],
   "source": [
    "def filter_by_demographics(dataset, demographic_filters):\n",
    "    \"\"\"    \n",
    "    Returns:\n",
    "        Filtered dataset containing only examples that match ALL specified criteria\n",
    "        and have ALL required demographic keys present\n",
    "    \n",
    "    Examples:\n",
    "        # Filter for females only\n",
    "        filtered = filter_by_demographics(ds, {\"gender\": \"Female\"})\n",
    "        \n",
    "        # Filter for married females with college education\n",
    "        filtered = filter_by_demographics(ds, {\n",
    "            \"gender\": \"Female\", \n",
    "            \"marital_status\": \"Married\",\n",
    "            \"education\": \"Post grad study/professional degree\"\n",
    "        })\n",
    "    \"\"\"\n",
    "    def matches_criteria(example):\n",
    "        # Check if demographic field exists\n",
    "        if 'demographic' not in example or example['demographic'] is None:\n",
    "            return False\n",
    "            \n",
    "        demographic = example['demographic']\n",
    "        \n",
    "        # Check if all required keys exist in demographic data\n",
    "        for key in demographic_filters.keys():\n",
    "            if key not in demographic:\n",
    "                return False\n",
    "        \n",
    "        # Check if all criteria match\n",
    "        for key, required_value in demographic_filters.items():\n",
    "            actual_value = demographic.get(key)\n",
    "            if actual_value != required_value:\n",
    "                return False\n",
    "                \n",
    "        return True\n",
    "    \n",
    "    # Filter the dataset\n",
    "    if hasattr(dataset, 'filter'):  # HuggingFace dataset\n",
    "        return dataset.filter(matches_criteria)\n",
    "    else:  # Regular list/iterable\n",
    "        return [ex for ex in dataset if matches_criteria(ex)]\n",
    "\n",
    "# Test the function with a sample\n",
    "if 'dataset' in globals():\n",
    "    print(f\"\\n📊 Dataset info:\")\n",
    "    print(f\"Total examples: {len(dataset):,}\")\n",
    "    \n",
    "    # Test filter for females\n",
    "    try:\n",
    "        filtered_dataset = filter_by_demographics(dataset, {\"gender\": \"Male\"})\n",
    "    \n",
    "        print(f\"Filtered dataset size: {len(filtered_dataset):,}\")\n",
    "        \n",
    "    except Exception as e:\n",
    "        print(f\"Error testing filter: {e}\")\n",
    "else:\n",
    "    print(\"\\ndataset' not loaded yet. Run the previous cells first!\")"
   ]
  },
  {
   "cell_type": "code",
   "execution_count": 7,
   "id": "27b7f286",
   "metadata": {},
   "outputs": [
    {
     "name": "stdout",
     "output_type": "stream",
     "text": [
      "Full subset size: 791,278 examples\n"
     ]
    },
    {
     "name": "stderr",
     "output_type": "stream",
     "text": [
      "Converting to chat format: 100%|██████████| 791278/791278 [01:31<00:00, 8654.94it/s]\n"
     ]
    },
    {
     "name": "stdout",
     "output_type": "stream",
     "text": [
      "✓ Processed: 791,278 examples, Skipped: 0 examples\n",
      "Split based on participant_mapping: 678,797 train (seen), 112,481 validation (unseen)\n",
      "Writing files: 678,797 train, 112,481 validation...\n",
      "✓ Successfully wrote:\n",
      "  - direct_response/train.jsonl: 678,797 examples\n",
      "  - direct_response/val.jsonl: 112,481 examples\n"
     ]
    }
   ],
   "source": [
    "\n",
    "# USE FILTERED DATASET FROM ABOVE HERE\n",
    "subset = filtered_dataset\n",
    "print(f\"Full subset size: {len(subset):,} examples\")\n",
    "\n",
    "\n",
    "# Optional single system instruction\n",
    "SYSTEM_TXT =  \"You are simulating a survey respondent. Answer exactly as instructed, following the specified response format without additional commentary.\"\n",
    "\n",
    "\n",
    "# Create sets for faster lookup\n",
    "seen_participants = set(participant_mapping['seen'])\n",
    "unseen_participants = set(participant_mapping['unseen'])\n",
    "\n",
    "train_rows = []\n",
    "val_rows = []\n",
    "processed = 0\n",
    "skipped = 0\n",
    "\n",
    "for ex in tqdm(subset, desc=\"Converting to chat format\"):\n",
    "    prompt = ex.get(\"prompt\") .strip()\n",
    "    response = ex.get(\"response\")\n",
    "    participant = ex.get(\"study_id\")\n",
    "    \n",
    "    if not prompt or response is None:\n",
    "        skipped += 1\n",
    "        continue\n",
    "\n",
    "    assistant = str(response).strip()\n",
    "    message_obj = {\n",
    "        \"messages\": [\n",
    "            {\"role\": \"system\", \"content\": SYSTEM_TXT},\n",
    "            {\"role\": \"user\", \"content\": prompt},\n",
    "            {\"role\": \"assistant\", \"content\": assistant}\n",
    "        ]\n",
    "    }\n",
    "    \n",
    "    # Split based on participant mapping\n",
    "    if participant in seen_participants:\n",
    "        train_rows.append(message_obj)\n",
    "    elif participant in unseen_participants:\n",
    "        val_rows.append(message_obj)\n",
    "    else:\n",
    "        # Skip examples from participants not in either set\n",
    "        skipped += 1\n",
    "        continue\n",
    "    \n",
    "    processed += 1\n",
    "\n",
    "print(f\"✓ Processed: {processed:,} examples, Skipped: {skipped:,} examples\")\n",
    "print(f\"Split based on participant_mapping: {len(train_rows):,} train (seen), {len(val_rows):,} validation (unseen)\")\n",
    "\n",
    "print(f\"Writing files: {len(train_rows):,} train, {len(val_rows):,} validation...\")\n",
    "\n",
    "# Write files\n",
    "with open(train_path, \"w\") as f:\n",
    "    for r in train_rows: \n",
    "        f.write(json.dumps(r, ensure_ascii=False) + \"\\n\")\n",
    "\n",
    "with open(val_path, \"w\") as f:\n",
    "    for r in val_rows:   \n",
    "        f.write(json.dumps(r, ensure_ascii=False) + \"\\n\")\n",
    "\n",
    "print(f\"✓ Successfully wrote:\")\n",
    "print(f\"  - {train_path}: {len(train_rows):,} examples\") \n",
    "print(f\"  - {val_path}: {len(val_rows):,} examples\")\n"
   ]
  }
 ],
 "metadata": {
  "kernelspec": {
   "display_name": ".venv",
   "language": "python",
   "name": "python3"
  },
  "language_info": {
   "codemirror_mode": {
    "name": "ipython",
    "version": 3
   },
   "file_extension": ".py",
   "mimetype": "text/x-python",
   "name": "python",
   "nbconvert_exporter": "python",
   "pygments_lexer": "ipython3",
   "version": "3.11.13"
  }
 },
 "nbformat": 4,
 "nbformat_minor": 5
}
